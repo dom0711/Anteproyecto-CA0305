{
 "cells": [
  {
   "cell_type": "code",
   "execution_count": 1,
   "id": "6b81ee76-6676-4b7b-be3a-f7b6d1cba2d8",
   "metadata": {},
   "outputs": [],
   "source": [
    "#Se cargan los diferentes paquetes necesarios\n",
    "import pandas as pd\n",
    "from sklearn.model_selection import train_test_split\n",
    "from sklearn.preprocessing import StandardScaler, OneHotEncoder\n",
    "from sklearn.compose import ColumnTransformer\n",
    "from sklearn.pipeline import Pipeline\n",
    "from sklearn.metrics import roc_auc_score\n",
    "import matplotlib.pyplot as plt\n",
    "from sklearn.metrics import roc_curve\n",
    "from sklearn.model_selection import cross_val_score\n",
    "from sklearn.model_selection import StratifiedKFold\n",
    "import xgboost as xgb\n",
    "import numpy as np "
   ]
  },
  {
   "cell_type": "code",
   "execution_count": 2,
   "id": "e5705643-0a3a-4805-9d4d-b79b3ab77b4d",
   "metadata": {},
   "outputs": [],
   "source": [
    "#Se carga la data usando la libreria pandas\n",
    "data = pd.read_csv('Data_fraude.csv')"
   ]
  },
  {
   "cell_type": "code",
   "execution_count": 3,
   "id": "c87ed265-28e3-4a5e-a910-018e04b75ef6",
   "metadata": {},
   "outputs": [
    {
     "name": "stdout",
     "output_type": "stream",
     "text": [
      "   step      type    amount     nameOrig  oldbalanceOrg  newbalanceOrig  \\\n",
      "0     1   PAYMENT   9839.64  C1231006815      170136.00       160296.36   \n",
      "1     1   PAYMENT   1864.28  C1666544295       21249.00        19384.72   \n",
      "2     1  TRANSFER    181.00  C1305486145         181.00            0.00   \n",
      "3     1  CASH_OUT    181.00   C840083671         181.00            0.00   \n",
      "4     1   PAYMENT  11668.14  C2048537720       41554.00        29885.86   \n",
      "5     1   PAYMENT   7817.71    C90045638       53860.00        46042.29   \n",
      "6     1   PAYMENT   7107.77   C154988899      183195.00       176087.23   \n",
      "7     1   PAYMENT   7861.64  C1912850431      176087.23       168225.59   \n",
      "8     1   PAYMENT   4024.36  C1265012928        2671.00            0.00   \n",
      "9     1     DEBIT   5337.77   C712410124       41720.00        36382.23   \n",
      "\n",
      "      nameDest  oldbalanceDest  newbalanceDest  isFraud  isFlaggedFraud  \n",
      "0  M1979787155             0.0            0.00        0               0  \n",
      "1  M2044282225             0.0            0.00        0               0  \n",
      "2   C553264065             0.0            0.00        1               0  \n",
      "3    C38997010         21182.0            0.00        1               0  \n",
      "4  M1230701703             0.0            0.00        0               0  \n",
      "5   M573487274             0.0            0.00        0               0  \n",
      "6   M408069119             0.0            0.00        0               0  \n",
      "7   M633326333             0.0            0.00        0               0  \n",
      "8  M1176932104             0.0            0.00        0               0  \n",
      "9   C195600860         41898.0        40348.79        0               0  \n"
     ]
    }
   ],
   "source": [
    "#Se utiliza head para observar como se ven las observaciones\n",
    "print(data.head(10))"
   ]
  },
  {
   "cell_type": "code",
   "execution_count": 4,
   "id": "6c94a260-fe1d-4b7b-92b7-9df269d9eae5",
   "metadata": {},
   "outputs": [
    {
     "name": "stdout",
     "output_type": "stream",
     "text": [
      "<class 'pandas.core.frame.DataFrame'>\n",
      "RangeIndex: 6362620 entries, 0 to 6362619\n",
      "Data columns (total 11 columns):\n",
      " #   Column          Dtype  \n",
      "---  ------          -----  \n",
      " 0   step            int64  \n",
      " 1   type            object \n",
      " 2   amount          float64\n",
      " 3   nameOrig        object \n",
      " 4   oldbalanceOrg   float64\n",
      " 5   newbalanceOrig  float64\n",
      " 6   nameDest        object \n",
      " 7   oldbalanceDest  float64\n",
      " 8   newbalanceDest  float64\n",
      " 9   isFraud         int64  \n",
      " 10  isFlaggedFraud  int64  \n",
      "dtypes: float64(5), int64(3), object(3)\n",
      "memory usage: 534.0+ MB\n",
      "None\n"
     ]
    }
   ],
   "source": [
    "#Se usa info para brindar informacion sobre en data frame y las variables\n",
    "print(data.info())"
   ]
  },
  {
   "cell_type": "code",
   "execution_count": 5,
   "id": "bfcdf6e0-4c5b-42a4-a7ce-339c4c2f966b",
   "metadata": {},
   "outputs": [
    {
     "name": "stdout",
     "output_type": "stream",
     "text": [
      "               step        amount  oldbalanceOrg  newbalanceOrig  \\\n",
      "count  6.362620e+06  6.362620e+06   6.362620e+06    6.362620e+06   \n",
      "mean   2.433972e+02  1.798619e+05   8.338831e+05    8.551137e+05   \n",
      "std    1.423320e+02  6.038582e+05   2.888243e+06    2.924049e+06   \n",
      "min    1.000000e+00  0.000000e+00   0.000000e+00    0.000000e+00   \n",
      "25%    1.560000e+02  1.338957e+04   0.000000e+00    0.000000e+00   \n",
      "50%    2.390000e+02  7.487194e+04   1.420800e+04    0.000000e+00   \n",
      "75%    3.350000e+02  2.087215e+05   1.073152e+05    1.442584e+05   \n",
      "max    7.430000e+02  9.244552e+07   5.958504e+07    4.958504e+07   \n",
      "\n",
      "       oldbalanceDest  newbalanceDest       isFraud  isFlaggedFraud  \n",
      "count    6.362620e+06    6.362620e+06  6.362620e+06    6.362620e+06  \n",
      "mean     1.100702e+06    1.224996e+06  1.290820e-03    2.514687e-06  \n",
      "std      3.399180e+06    3.674129e+06  3.590480e-02    1.585775e-03  \n",
      "min      0.000000e+00    0.000000e+00  0.000000e+00    0.000000e+00  \n",
      "25%      0.000000e+00    0.000000e+00  0.000000e+00    0.000000e+00  \n",
      "50%      1.327057e+05    2.146614e+05  0.000000e+00    0.000000e+00  \n",
      "75%      9.430367e+05    1.111909e+06  0.000000e+00    0.000000e+00  \n",
      "max      3.560159e+08    3.561793e+08  1.000000e+00    1.000000e+00  \n"
     ]
    }
   ],
   "source": [
    "#Se realiza una descripcion general de las variables\n",
    "print(data.describe())"
   ]
  },
  {
   "cell_type": "code",
   "execution_count": 6,
   "id": "577680fa-ec59-4242-84e9-82b112c5c8ea",
   "metadata": {},
   "outputs": [
    {
     "name": "stdout",
     "output_type": "stream",
     "text": [
      "isFraud\n",
      "0    6354407\n",
      "1       8213\n",
      "Name: count, dtype: int64\n"
     ]
    }
   ],
   "source": [
    "#Es pertinente ver cuantas observaciones son fraudes usando la columna isFraud que es 1 si es fraunde y 0 si no\n",
    "print(data['isFraud'].value_counts())"
   ]
  },
  {
   "cell_type": "code",
   "execution_count": 7,
   "id": "926cace5-df07-4db6-aaad-001d7ca12d95",
   "metadata": {},
   "outputs": [
    {
     "name": "stdout",
     "output_type": "stream",
     "text": [
      "ROC AUC promedio utilizando validación cruzada estratificada: 0.9993066136185835\n",
      "ROC AUC del conjunto de prueba: 0.9990695863471335\n"
     ]
    }
   ],
   "source": [
    "#Se divide la data entre variable dependiente a predecir y las variables independientes\n",
    "X = data.drop(columns=['isFraud'])\n",
    "Y = data['isFraud']\n",
    "\n",
    "# Se dividen los datos en conjuntos de entrenamiento(25%) y prueba(%75). Note que se establese random_state 7 para reproducibilidad \n",
    "X_train, X_test, Y_train, Y_test = train_test_split(X, Y, test_size=0.25, random_state=7, stratify=Y)\n",
    "\n",
    "# Se separan las variables numericas de las categoricas (type)\n",
    "variables_numericas = ['amount', 'oldbalanceOrg', 'newbalanceOrig', 'oldbalanceDest', 'newbalanceDest', 'isFlaggedFraud']\n",
    "variables_categoricas = ['type']\n",
    "\n",
    "# Se crea un StandardScaler que estandariza las variables numericas (0 de media y 1 de desviacion estandar)\n",
    "reescalar = StandardScaler()\n",
    "\n",
    "# Se usa un one-hot encoder para convertir type en variables dummy. Es decir, pivotea la data.\n",
    "# Creando una columna binaria para cada clase. Esto para que el modelo procese la variable categorica adecuadamente. \n",
    "codificar = OneHotEncoder(drop='first')\n",
    "\n",
    "# Se utiliza ColumnTransformer para aplicar los transformadores\n",
    "# El StandardScaler a las variables numericas y el onehot a la categorica para preprocesar los datos \n",
    "preproceso = ColumnTransformer(\n",
    "    transformers=[\n",
    "        ('num', reescalar, variables_numericas),\n",
    "        ('cat', codificar, variables_categoricas)\n",
    "    ])\n",
    "\n",
    "# Se decide usar un pipeline por su facilidad para preparar la data, entrenar el modelo y medir la calidad del mismo\n",
    "# Crea una instancia de un objeto de tipo pipeline que contiene dos etapas.\n",
    "# El preprocesamiento de los datos y el modelo de aprendizaje profundo\n",
    "# Se vuelve a setear semilla para reproducibilidad\n",
    "pipeline_xgb = Pipeline(steps=[\n",
    "    ('preprocessor', preproceso),\n",
    "    ('classifier', xgb.XGBClassifier(n_jobs=-1, random_state=7))  # Aquí se añade la paralelización con n_jobs=-1\n",
    "])\n",
    "\n",
    "# Se decide usar validacion cruzada estratificada por su robustes al trabajar con clases desbalanciadas\n",
    "num_estratos = 10\n",
    "estratos_kfold = StratifiedKFold(n_splits=num_estratos, shuffle=True, random_state=7)\n",
    "\n",
    "# Se crea una lista para almacenar los puntajes ROC AUC de cada fold\n",
    "roc_auc_scores = []\n",
    "\n",
    "# Se realiza la validación cruzada estratificada\n",
    "roc_auc_vector = cross_val_score(pipeline_xgb, X, Y, cv=estratos_kfold, scoring='roc_auc', n_jobs=-1)\n",
    "\n",
    "# Se calcula el promedio de los puntajes ROC AUC\n",
    "#Se usa ROC AUC por tratarse de una variable binaria\n",
    "roc_auc_promedio = np.mean(roc_auc_vector)\n",
    "\n",
    "print(\"ROC AUC promedio utilizando validación cruzada estratificada:\", roc_auc_promedio)\n",
    "\n",
    "# Se aplica el pipeline a los datos de entrenamiento\n",
    "pipeline_xgb.fit(X_train, Y_train)\n",
    "\n",
    "# Se realizan las predicciones\n",
    "Y_predict = pipeline_xgb.predict(X_test)\n",
    "Y_predict_proba = pipeline_xgb.predict_proba(X_test)[:, 1]\n",
    "\n",
    "roc_auc_test = roc_auc_score(Y_test, Y_predict_proba)\n",
    "\n",
    "print(\"ROC AUC del conjunto de prueba:\", roc_auc_test)"
   ]
  },
  {
   "cell_type": "code",
   "execution_count": 8,
   "id": "f145b3f4-b754-4e19-9f14-45df9a611fae",
   "metadata": {},
   "outputs": [
    {
     "data": {
      "image/png": "[encoded data removed]",
      "text/plain": [
       "<Figure size 1000x800 with 1 Axes>"
      ]
     },
     "metadata": {},
     "output_type": "display_data"
    }
   ],
   "source": [
    "#En el siguiente grafico se representa graficamente la cantidad de informacion que brinda cada variable al modelo \n",
    "importances = pipeline_xgb.named_steps['classifier'].feature_importances_\n",
    "categorical_features = pipeline_xgb.named_steps['preprocessor'].named_transformers_['cat'].get_feature_names_out(input_features=variables_categoricas)\n",
    "feature_names = np.concatenate([variables_numericas, categorical_features])\n",
    "importance_df = pd.DataFrame({'Feature': feature_names, 'Importance': importances})\n",
    "importance_df = importance_df.sort_values(by='Importance', ascending=True)\n",
    "\n",
    "\n",
    "plt.figure(figsize=(10, 8))\n",
    "plt.barh(importance_df['Feature'], importance_df['Importance'])\n",
    "plt.xlabel('Importance')\n",
    "plt.ylabel('Feature')\n",
    "plt.title('Feature Importance')\n",
    "plt.show()"
   ]
  }
 ],
 "metadata": {
  "kernelspec": {
   "display_name": "Python 3 (ipykernel)",
   "language": "python",
   "name": "python3"
  },
  "language_info": {
   "codemirror_mode": {
    "name": "ipython",
    "version": 3
   },
   "file_extension": ".py",
   "mimetype": "text/x-python",
   "name": "python",
   "nbconvert_exporter": "python",
   "pygments_lexer": "ipython3",
   "version": "3.11.7"
  }
 },
 "nbformat": 4,
 "nbformat_minor": 5
}
